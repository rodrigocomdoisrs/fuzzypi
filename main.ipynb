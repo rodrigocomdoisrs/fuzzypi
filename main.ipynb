{
 "cells": [
  {
   "cell_type": "markdown",
   "id": "682df259",
   "metadata": {},
   "source": [
    "**Testing package imports**"
   ]
  },
  {
   "cell_type": "code",
   "execution_count": null,
   "id": "337fc37c",
   "metadata": {},
   "outputs": [],
   "source": [
    "import src\n",
    "from pprint import pprint\n",
    "import inspect"
   ]
  },
  {
   "cell_type": "code",
   "execution_count": null,
   "id": "8c5f33aa",
   "metadata": {},
   "outputs": [],
   "source": [
    "inspect.getmembers(src)\n",
    "inspect.isclass(src.ALMMo0Classifier)\n",
    "inspect.isfunction(src.unimodal_density)\n",
    "hasattr(src, 'ALMMo0Classifier')\n",
    "pprint(\"__path__ : {}\".format(src.__path__))\n",
    "\n",
    "#pprint(src.__dict__)\n",
    "\n",
    "src.ALMMo0Classifier\n",
    "hasattr(src, 'ALMMo0Classifier')\n",
    "hasattr(src, 'ALMMo0Classifier')\n",
    "callable(src.ALMMo0Classifier.update)"
   ]
  }
 ],
 "metadata": {
  "kernelspec": {
   "display_name": "base",
   "language": "python",
   "name": "python3"
  },
  "language_info": {
   "codemirror_mode": {
    "name": "ipython",
    "version": 3
   },
   "file_extension": ".py",
   "mimetype": "text/x-python",
   "name": "python",
   "nbconvert_exporter": "python",
   "pygments_lexer": "ipython3",
   "version": "3.12.7"
  }
 },
 "nbformat": 4,
 "nbformat_minor": 5
}
